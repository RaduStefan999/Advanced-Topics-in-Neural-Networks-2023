{
 "cells": [
  {
   "cell_type": "code",
   "execution_count": 93,
   "metadata": {
    "collapsed": true
   },
   "outputs": [],
   "source": [
    "import numpy as np\n",
    "import torch\n",
    "import torch.nn as nn"
   ]
  },
  {
   "cell_type": "code",
   "execution_count": 94,
   "outputs": [],
   "source": [
    "input = torch.tensor([1, 3, 0]).float()\n",
    "labels = torch.tensor([0, 1, 0]).float()\n",
    "\n",
    "weights = torch.tensor([[0.1, 0.2, -0.3], [-0.6, -0.5, 2], [-0.2, 0.5, -3]]).float()\n",
    "biases = torch.tensor([0.1, 0.1, 0.1]).float()"
   ],
   "metadata": {
    "collapsed": false
   }
  },
  {
   "cell_type": "code",
   "execution_count": 95,
   "outputs": [],
   "source": [
    "def feed_forward(input: torch.tensor, weights: torch.tensor, biases: torch.tensor) -> torch.tensor:\n",
    "    z = torch.matmul(weights, input) + biases\n",
    "    return nn.Softmax(dim=0)(z)"
   ],
   "metadata": {
    "collapsed": false
   }
  },
  {
   "cell_type": "code",
   "execution_count": 96,
   "outputs": [],
   "source": [
    "def compute_gradients(input: torch.tensor, labels: torch.tensor, predicted: torch.tensor) -> (torch.tensor, torch.tensor):\n",
    "    return torch.mul(predicted - labels, input), predicted - labels"
   ],
   "metadata": {
    "collapsed": false
   }
  },
  {
   "cell_type": "code",
   "execution_count": 97,
   "outputs": [
    {
     "name": "stdout",
     "output_type": "stream",
     "text": [
      "tensor([0.3469, 0.0211, 0.6320])\n"
     ]
    }
   ],
   "source": [
    "predicted = feed_forward(input, weights, biases)\n",
    "print(predicted)"
   ],
   "metadata": {
    "collapsed": false
   }
  },
  {
   "cell_type": "code",
   "execution_count": 98,
   "outputs": [
    {
     "name": "stdout",
     "output_type": "stream",
     "text": [
      "tensor([ 0.3469, -2.9367,  0.0000])\n",
      "tensor([ 0.3469, -0.9789,  0.6320])\n"
     ]
    }
   ],
   "source": [
    "d_weights, d_biases = compute_gradients(input, labels, predicted)\n",
    "print(d_weights)\n",
    "print(d_biases)"
   ],
   "metadata": {
    "collapsed": false
   }
  },
  {
   "cell_type": "code",
   "execution_count": 99,
   "outputs": [],
   "source": [
    "weights = weights - d_weights\n",
    "biases = biases - d_biases"
   ],
   "metadata": {
    "collapsed": false
   }
  },
  {
   "cell_type": "code",
   "execution_count": 100,
   "outputs": [
    {
     "name": "stdout",
     "output_type": "stream",
     "text": [
      "tensor([0.3848, 0.0881, 0.5271])\n"
     ]
    }
   ],
   "source": [
    "predicted_after_train = feed_forward(input, weights, biases)\n",
    "print(predicted_after_train)"
   ],
   "metadata": {
    "collapsed": false
   }
  },
  {
   "cell_type": "code",
   "execution_count": 38,
   "outputs": [],
   "source": [],
   "metadata": {
    "collapsed": false
   }
  }
 ],
 "metadata": {
  "kernelspec": {
   "display_name": "Python 3",
   "language": "python",
   "name": "python3"
  },
  "language_info": {
   "codemirror_mode": {
    "name": "ipython",
    "version": 2
   },
   "file_extension": ".py",
   "mimetype": "text/x-python",
   "name": "python",
   "nbconvert_exporter": "python",
   "pygments_lexer": "ipython2",
   "version": "2.7.6"
  }
 },
 "nbformat": 4,
 "nbformat_minor": 0
}
