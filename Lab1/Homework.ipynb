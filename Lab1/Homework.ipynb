{
 "cells": [
  {
   "cell_type": "code",
   "execution_count": 165,
   "metadata": {
    "collapsed": true
   },
   "outputs": [],
   "source": [
    "import torch\n",
    "import torch.nn as nn"
   ]
  },
  {
   "cell_type": "code",
   "execution_count": 166,
   "outputs": [],
   "source": [
    "input_d = torch.tensor([1, 3, 0]).float()\n",
    "labels = torch.tensor([0, 1, 0]).float()\n",
    "\n",
    "weights = torch.tensor([[0.1, 0.2, -0.3], [-0.6, -0.5, 2], [-0.2, 0.5, -3]]).float()\n",
    "biases = torch.tensor([0.1, 0.1, 0.1]).float()"
   ],
   "metadata": {
    "collapsed": false
   }
  },
  {
   "cell_type": "code",
   "execution_count": 167,
   "outputs": [],
   "source": [
    "def feed_forward(input_arg: torch.tensor, weights_arg: torch.tensor, biases_arg: torch.tensor) -> torch.tensor:\n",
    "    z = torch.matmul(weights_arg, input_arg) + biases_arg\n",
    "    return nn.Softmax(dim=0)(z)"
   ],
   "metadata": {
    "collapsed": false
   }
  },
  {
   "cell_type": "code",
   "execution_count": 168,
   "outputs": [],
   "source": [
    "def compute_gradients(input_arg: torch.tensor, labels_arg: torch.tensor, predicted_arg: torch.tensor) -> (torch.tensor, torch.tensor):\n",
    "    return torch.matmul(input_arg.view(-1, 1), (predicted_arg - labels_arg).view(1, -1)), predicted_arg - labels_arg"
   ],
   "metadata": {
    "collapsed": false
   }
  },
  {
   "cell_type": "code",
   "execution_count": 169,
   "outputs": [
    {
     "name": "stdout",
     "output_type": "stream",
     "text": [
      "tensor([0.3469, 0.0211, 0.6320])\n"
     ]
    }
   ],
   "source": [
    "predicted = feed_forward(input_d, weights, biases)\n",
    "print(predicted)"
   ],
   "metadata": {
    "collapsed": false
   }
  },
  {
   "cell_type": "code",
   "execution_count": 170,
   "outputs": [
    {
     "name": "stdout",
     "output_type": "stream",
     "text": [
      "tensor([[ 0.3469, -0.9789,  0.6320],\n",
      "        [ 1.0406, -2.9367,  1.8961],\n",
      "        [ 0.0000, -0.0000,  0.0000]])\n",
      "tensor([ 0.3469, -0.9789,  0.6320])\n"
     ]
    }
   ],
   "source": [
    "d_weights, d_biases = compute_gradients(input_d, labels, predicted)\n",
    "print(d_weights)\n",
    "print(d_biases)"
   ],
   "metadata": {
    "collapsed": false
   }
  },
  {
   "cell_type": "code",
   "execution_count": 171,
   "outputs": [
    {
     "name": "stdout",
     "output_type": "stream",
     "text": [
      "tensor([[-0.2469,  1.1789, -0.9320],\n",
      "        [-1.6406,  2.4367,  0.1039],\n",
      "        [-0.2000,  0.5000, -3.0000]])\n",
      "tensor([-0.2469,  1.0789, -0.5320])\n"
     ]
    }
   ],
   "source": [
    "weights = weights - d_weights\n",
    "biases = biases - d_biases\n",
    "\n",
    "print(weights)\n",
    "print(biases)"
   ],
   "metadata": {
    "collapsed": false
   }
  },
  {
   "cell_type": "code",
   "execution_count": 162,
   "outputs": [
    {
     "name": "stdout",
     "output_type": "stream",
     "text": [
      "tensor([0.0239, 0.9736, 0.0025])\n"
     ]
    }
   ],
   "source": [
    "predicted_after_train = feed_forward(input_d, weights, biases)\n",
    "print(predicted_after_train)"
   ],
   "metadata": {
    "collapsed": false
   }
  }
 ],
 "metadata": {
  "kernelspec": {
   "display_name": "Python 3",
   "language": "python",
   "name": "python3"
  },
  "language_info": {
   "codemirror_mode": {
    "name": "ipython",
    "version": 2
   },
   "file_extension": ".py",
   "mimetype": "text/x-python",
   "name": "python",
   "nbconvert_exporter": "python",
   "pygments_lexer": "ipython2",
   "version": "2.7.6"
  }
 },
 "nbformat": 4,
 "nbformat_minor": 0
}
