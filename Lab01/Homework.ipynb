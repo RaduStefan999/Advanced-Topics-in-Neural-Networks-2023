{
 "cells": [
  {
   "cell_type": "code",
   "execution_count": 9,
   "metadata": {
    "collapsed": true
   },
   "outputs": [],
   "source": [
    "import torch\n",
    "import torch.nn as nn"
   ]
  },
  {
   "cell_type": "code",
   "execution_count": 10,
   "outputs": [],
   "source": [
    "input_d = torch.tensor([1, 3, 0]).float()\n",
    "labels = torch.tensor([0, 1, 0]).float()\n",
    "\n",
    "#weights_from_class = torch.tensor([[0.1, 0.2, -0.3], [-0.6, -0.5, 2], [-0.2, 0.5, -3]]).float()\n",
    "weights_from_assignment = torch.tensor([[0.3, 0.1, -2], [-0.6, -0.5, 2], [-1, 0.5, 0.1]]).float()\n",
    "biases = torch.tensor([0.1, 0.1, 0.1]).float()"
   ],
   "metadata": {
    "collapsed": false
   }
  },
  {
   "cell_type": "code",
   "execution_count": 11,
   "outputs": [],
   "source": [
    "def feed_forward(input_arg: torch.tensor, weights_arg: torch.tensor, biases_arg: torch.tensor) -> torch.tensor:\n",
    "    z = torch.matmul(weights_arg, input_arg) + biases_arg\n",
    "    return nn.Softmax(dim=0)(z)"
   ],
   "metadata": {
    "collapsed": false
   }
  },
  {
   "cell_type": "code",
   "execution_count": 12,
   "outputs": [],
   "source": [
    "def compute_gradients(input_arg: torch.tensor, labels_arg: torch.tensor, predicted_arg: torch.tensor) -> (torch.tensor, torch.tensor):\n",
    "    return torch.matmul(input_arg.view(-1, 1), (predicted_arg - labels_arg).view(1, -1)), predicted_arg - labels_arg"
   ],
   "metadata": {
    "collapsed": false
   }
  },
  {
   "cell_type": "code",
   "execution_count": 13,
   "outputs": [
    {
     "name": "stdout",
     "output_type": "stream",
     "text": [
      "tensor([0.5071, 0.0341, 0.4588])\n"
     ]
    }
   ],
   "source": [
    "predicted = feed_forward(input_d, weights_from_assignment, biases)\n",
    "print(predicted)"
   ],
   "metadata": {
    "collapsed": false
   }
  },
  {
   "cell_type": "code",
   "execution_count": 14,
   "outputs": [
    {
     "name": "stdout",
     "output_type": "stream",
     "text": [
      "tensor([[ 0.5071, -0.9659,  0.4588],\n",
      "        [ 1.5213, -2.8978,  1.3765],\n",
      "        [ 0.0000, -0.0000,  0.0000]])\n",
      "tensor([ 0.5071, -0.9659,  0.4588])\n"
     ]
    }
   ],
   "source": [
    "d_weights, d_biases = compute_gradients(input_d, labels, predicted)\n",
    "print(d_weights)\n",
    "print(d_biases)"
   ],
   "metadata": {
    "collapsed": false
   }
  },
  {
   "cell_type": "code",
   "execution_count": 15,
   "outputs": [
    {
     "name": "stdout",
     "output_type": "stream",
     "text": [
      "tensor([[-0.2071,  1.0659, -2.4588],\n",
      "        [-2.1213,  2.3978,  0.6235],\n",
      "        [-1.0000,  0.5000,  0.1000]])\n",
      "tensor([-0.4071,  1.0659, -0.3588])\n"
     ]
    }
   ],
   "source": [
    "weights = weights_from_assignment - d_weights\n",
    "biases = biases - d_biases\n",
    "\n",
    "print(weights)\n",
    "print(biases)"
   ],
   "metadata": {
    "collapsed": false
   }
  },
  {
   "cell_type": "code",
   "execution_count": 16,
   "outputs": [
    {
     "name": "stdout",
     "output_type": "stream",
     "text": [
      "tensor([0.0277, 0.9699, 0.0024])\n"
     ]
    }
   ],
   "source": [
    "predicted_after_train = feed_forward(input_d, weights, biases)\n",
    "print(predicted_after_train)"
   ],
   "metadata": {
    "collapsed": false
   }
  },
  {
   "cell_type": "code",
   "execution_count": null,
   "outputs": [],
   "source": [],
   "metadata": {
    "collapsed": false
   }
  }
 ],
 "metadata": {
  "kernelspec": {
   "display_name": "Python 3",
   "language": "python",
   "name": "python3"
  },
  "language_info": {
   "codemirror_mode": {
    "name": "ipython",
    "version": 2
   },
   "file_extension": ".py",
   "mimetype": "text/x-python",
   "name": "python",
   "nbconvert_exporter": "python",
   "pygments_lexer": "ipython2",
   "version": "2.7.6"
  }
 },
 "nbformat": 4,
 "nbformat_minor": 0
}
