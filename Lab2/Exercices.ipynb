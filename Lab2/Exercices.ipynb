{
 "cells": [
  {
   "cell_type": "code",
   "execution_count": 13,
   "metadata": {
    "collapsed": true
   },
   "outputs": [],
   "source": [
    "from typing import Union\n",
    "from torch import Tensor\n",
    "from torch import linalg as LA\n",
    "import torch"
   ]
  },
  {
   "cell_type": "code",
   "execution_count": 20,
   "outputs": [
    {
     "name": "stdout",
     "output_type": "stream",
     "text": [
      "tensor([[[0.6736, 0.7104, 0.4067,  ..., 0.7132, 0.8789, 0.7312],\n",
      "         [0.6957, 0.6053, 0.5786,  ..., 0.7887, 0.0229, 0.3599],\n",
      "         [0.6427, 0.4423, 0.3498,  ..., 0.5449, 0.4429, 0.1655],\n",
      "         ...,\n",
      "         [0.5649, 0.7931, 0.3568,  ..., 0.0497, 0.3231, 0.8504],\n",
      "         [0.2210, 0.3201, 0.9285,  ..., 0.2219, 0.0550, 0.1944],\n",
      "         [0.7691, 0.6161, 0.3649,  ..., 0.3164, 0.6924, 0.0797]],\n",
      "\n",
      "        [[0.8193, 0.2650, 0.8584,  ..., 0.7130, 0.8624, 0.8869],\n",
      "         [0.2401, 0.0912, 0.7904,  ..., 0.7126, 0.1617, 0.7804],\n",
      "         [0.8993, 0.6937, 0.4602,  ..., 0.6567, 0.1363, 0.0419],\n",
      "         ...,\n",
      "         [0.3232, 0.4270, 0.4479,  ..., 0.4303, 0.2171, 0.0577],\n",
      "         [0.7198, 0.1235, 0.8972,  ..., 0.6614, 0.5884, 0.9415],\n",
      "         [0.1952, 0.0280, 0.5648,  ..., 0.0106, 0.6290, 0.6400]],\n",
      "\n",
      "        [[0.7096, 0.5537, 0.4614,  ..., 0.4037, 0.9977, 0.0287],\n",
      "         [0.7317, 0.3911, 0.7303,  ..., 0.2966, 0.0729, 0.0932],\n",
      "         [0.8224, 0.3804, 0.1416,  ..., 0.2332, 0.7741, 0.8609],\n",
      "         ...,\n",
      "         [0.8768, 0.7231, 0.4481,  ..., 0.3800, 0.2636, 0.6943],\n",
      "         [0.1189, 0.6076, 0.0857,  ..., 0.9799, 0.4941, 0.5403],\n",
      "         [0.6623, 0.4052, 0.7989,  ..., 0.4527, 0.3075, 0.2482]],\n",
      "\n",
      "        ...,\n",
      "\n",
      "        [[0.2054, 0.4820, 0.3668,  ..., 0.8433, 0.9874, 0.6388],\n",
      "         [0.0195, 0.3047, 0.7890,  ..., 0.4541, 0.1575, 0.7926],\n",
      "         [0.2743, 0.8759, 0.4923,  ..., 0.1095, 0.2975, 0.9487],\n",
      "         ...,\n",
      "         [0.3178, 0.8491, 0.0688,  ..., 0.2533, 0.9139, 0.6521],\n",
      "         [0.2067, 0.9354, 0.3165,  ..., 0.6116, 0.6652, 0.4613],\n",
      "         [0.9537, 0.1511, 0.5871,  ..., 0.2678, 0.9855, 0.9056]],\n",
      "\n",
      "        [[0.9318, 0.7132, 0.1766,  ..., 0.1949, 0.8799, 0.2607],\n",
      "         [0.6681, 0.3808, 0.6635,  ..., 0.8881, 0.6433, 0.5362],\n",
      "         [0.6161, 0.7208, 0.0516,  ..., 0.2651, 0.6372, 0.5736],\n",
      "         ...,\n",
      "         [0.3646, 0.4755, 0.1543,  ..., 0.8110, 0.3383, 0.5108],\n",
      "         [0.4968, 0.2286, 0.4729,  ..., 0.6484, 0.2051, 0.4350],\n",
      "         [0.3583, 0.7059, 0.4856,  ..., 0.9061, 0.3533, 0.5874]],\n",
      "\n",
      "        [[0.6943, 0.9445, 0.4565,  ..., 0.8073, 0.4689, 0.7572],\n",
      "         [0.5333, 0.3823, 0.5420,  ..., 0.5283, 0.6626, 0.9534],\n",
      "         [0.6611, 0.2076, 0.4205,  ..., 0.7829, 0.3453, 0.1342],\n",
      "         ...,\n",
      "         [0.8478, 0.7727, 0.1996,  ..., 0.8014, 0.9810, 0.7415],\n",
      "         [0.8563, 0.9866, 0.3688,  ..., 0.5896, 0.0427, 0.4243],\n",
      "         [0.1466, 0.6465, 0.7483,  ..., 0.2795, 0.9801, 0.1377]]])\n",
      "Input shape torch.Size([100, 10, 256])\n",
      "Output shape torch.Size([86, 10, 256])\n"
     ]
    }
   ],
   "source": [
    "def get_normal_tensors(x: Tensor) -> Union[Tensor, None]:\n",
    "    gradients_norm = LA.matrix_norm(x, dim=(1, 2))\n",
    "\n",
    "    gradients_mean = torch.mean(gradients_norm)\n",
    "    gradients_dev = torch.std(gradients_norm)\n",
    "\n",
    "    lower_mask = gradients_norm <= (gradients_mean + gradients_dev * 1.5)\n",
    "    upper_mask = gradients_norm >= (gradients_mean - gradients_dev * 1.5)\n",
    "\n",
    "    final_mask = torch.mul(lower_mask, upper_mask)\n",
    "    selected_tensor = x[final_mask, :, :]\n",
    "\n",
    "    if not torch.any(final_mask):\n",
    "        return None\n",
    "\n",
    "    return selected_tensor\n",
    "\n",
    "\n",
    "input_gradients = torch.rand((100, 10, 256))\n",
    "selected_gradients = get_normal_tensors(input_gradients)\n",
    "\n",
    "print(selected_gradients)\n",
    "print(f\"Input shape {input_gradients.size()}\")\n",
    "print(f\"Output shape {selected_gradients.size()}\")\n"
   ],
   "metadata": {
    "collapsed": false
   }
  },
  {
   "cell_type": "code",
   "execution_count": 18,
   "outputs": [],
   "source": [],
   "metadata": {
    "collapsed": false
   }
  }
 ],
 "metadata": {
  "kernelspec": {
   "display_name": "Python 3",
   "language": "python",
   "name": "python3"
  },
  "language_info": {
   "codemirror_mode": {
    "name": "ipython",
    "version": 2
   },
   "file_extension": ".py",
   "mimetype": "text/x-python",
   "name": "python",
   "nbconvert_exporter": "python",
   "pygments_lexer": "ipython2",
   "version": "2.7.6"
  }
 },
 "nbformat": 4,
 "nbformat_minor": 0
}
